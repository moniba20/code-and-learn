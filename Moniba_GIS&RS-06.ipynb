{
 "cells": [
  {
   "cell_type": "code",
   "execution_count": null,
   "id": "6e5a7579-dc35-4f76-b0a2-b3a749c92a6b",
   "metadata": {},
   "outputs": [],
   "source": [
    "### Assignment-02\n",
    "- Change the notebook name with your name and Roll Number.\n",
    "- Try this as your own, no chatgpt (it's for your learning)\n",
    "- after completing the assignment, submit this book on google class room."
   ]
  },
  {
   "cell_type": "markdown",
   "id": "5bc28c35",
   "metadata": {},
   "source": [
    "Declare and print a variable with the name \"name\" containing your name.\n"
   ]
  },
  {
   "cell_type": "code",
   "execution_count": 3,
   "id": "4eb1e464",
   "metadata": {},
   "outputs": [
    {
     "name": "stdout",
     "output_type": "stream",
     "text": [
      "Name: Moniba\n"
     ]
    }
   ],
   "source": [
    "name = \"Moniba\"\n",
    "print(\"Name: \" + name)"
   ]
  },
  {
   "cell_type": "code",
   "execution_count": null,
   "id": "c9ec7c68-dfbb-40a3-ba5f-2e8f7de93cb6",
   "metadata": {},
   "outputs": [],
   "source": [
    "Create two variables, x and y, and swap their values without using a third variable.\n"
   ]
  },
  {
   "cell_type": "code",
   "execution_count": 21,
   "id": "5734b25c",
   "metadata": {},
   "outputs": [
    {
     "name": "stdout",
     "output_type": "stream",
     "text": [
      "x: 10   y: 20\n",
      "x: 20   y: 10\n"
     ]
    }
   ],
   "source": [
    "x,y = 10,20\n",
    "print(\"x:\",x ,\" \",\"y:\",  y)\n",
    "x,y = 20, 10\n",
    "print(\"x:\", x,\" \", \"y:\", y)\n"
   ]
  },
  {
   "cell_type": "markdown",
   "id": "68c5f126",
   "metadata": {},
   "source": [
    "Calculate the area of a rectangle with length and width stored in variables.\n"
   ]
  },
  {
   "cell_type": "code",
   "execution_count": 7,
   "id": "efead34a",
   "metadata": {},
   "outputs": [
    {
     "name": "stdout",
     "output_type": "stream",
     "text": [
      "Area of rectangle: 100\n"
     ]
    }
   ],
   "source": [
    "l = 20\n",
    "w = 5\n",
    "area = (l*w)\n",
    "print(\"Area of rectangle:\" , area)"
   ]
  },
  {
   "cell_type": "code",
   "execution_count": null,
   "id": "ad55ad1c-b81a-4836-b38c-f33fae4f9ef5",
   "metadata": {},
   "outputs": [],
   "source": [
    "Create a variable with a long string (multi-line) and print its length."
   ]
  },
  {
   "cell_type": "code",
   "execution_count": 11,
   "id": "0f7d6636",
   "metadata": {},
   "outputs": [
    {
     "name": "stdout",
     "output_type": "stream",
     "text": [
      "Book reading is a fulfilling way to expand knowledge and relax the mind.It allows\n",
      "the readers to explore diverse worlds and ideas, enriching personal growth and \n",
      "deepening the understanding.\n"
     ]
    },
    {
     "data": {
      "text/plain": [
       "190"
      ]
     },
     "execution_count": 11,
     "metadata": {},
     "output_type": "execute_result"
    }
   ],
   "source": [
    "hobby = \"\"\"Book reading is a fulfilling way to expand knowledge and relax the mind.It allows\n",
    "the readers to explore diverse worlds and ideas, enriching personal growth and \n",
    "deepening the understanding.\"\"\"\n",
    "print(hobby)\n",
    "len(hobby)"
   ]
  },
  {
   "cell_type": "markdown",
   "id": "708def01",
   "metadata": {},
   "source": [
    "Create a variable to store your favorite number and print it."
   ]
  },
  {
   "cell_type": "code",
   "execution_count": 14,
   "id": "d810e261",
   "metadata": {},
   "outputs": [
    {
     "name": "stdout",
     "output_type": "stream",
     "text": [
      "M:  20\n"
     ]
    }
   ],
   "source": [
    "M = 20\n",
    "print(\"M: \" , M)"
   ]
  },
  {
   "cell_type": "markdown",
   "id": "9088a41e",
   "metadata": {},
   "source": [
    "Declare and assign values to multiple variables to represent the sides of a triangle. Calculate and print its perimeter.\n"
   ]
  },
  {
   "cell_type": "code",
   "execution_count": 15,
   "id": "13d9d2d2",
   "metadata": {},
   "outputs": [
    {
     "name": "stdout",
     "output_type": "stream",
     "text": [
      "Perimeter:  22\n"
     ]
    }
   ],
   "source": [
    "side1 = 5\n",
    "side2 = 10\n",
    "side3 = 7\n",
    "perimeter = (side1 + side2 + side3)\n",
    "print(\"Perimeter: \" , perimeter)"
   ]
  },
  {
   "cell_type": "markdown",
   "id": "a76f2d4f",
   "metadata": {},
   "source": [
    "Store the price of an item in one variable and the quantity in another. Calculate and print the total cost.\n"
   ]
  },
  {
   "cell_type": "code",
   "execution_count": 22,
   "id": "8cc9115b",
   "metadata": {},
   "outputs": [
    {
     "name": "stdout",
     "output_type": "stream",
     "text": [
      "Total cost:  1000\n"
     ]
    }
   ],
   "source": [
    "price = 200\n",
    "quantity = 5\n",
    "total_cost = (price*quantity)\n",
    "print(\"Total cost: \" , total_cost)"
   ]
  },
  {
   "cell_type": "markdown",
   "id": "7d9d0793",
   "metadata": {},
   "source": [
    "Declare a constant variable for the value of pi (π) and use it to calculate the circumference of a circle with a given radius."
   ]
  },
  {
   "cell_type": "code",
   "execution_count": 27,
   "id": "254f3e92",
   "metadata": {},
   "outputs": [
    {
     "name": "stdout",
     "output_type": "stream",
     "text": [
      "Circumference:  50.24\n"
     ]
    }
   ],
   "source": [
    "pi = 3.14\n",
    "r = 8\n",
    "circumference = (2*pi*r)\n",
    "print(\"Circumference: \" , circumference)"
   ]
  },
  {
   "cell_type": "markdown",
   "id": "2415eca0",
   "metadata": {},
   "source": [
    "Calculate the sum of two numbers, a and b."
   ]
  },
  {
   "cell_type": "code",
   "execution_count": 28,
   "id": "8eeee19d",
   "metadata": {},
   "outputs": [
    {
     "name": "stdout",
     "output_type": "stream",
     "text": [
      "Sum:  4658\n"
     ]
    }
   ],
   "source": [
    "a = 2130\n",
    "b = 2528\n",
    "sum = (a+b)\n",
    "print(\"Sum: \" , sum)"
   ]
  },
  {
   "cell_type": "markdown",
   "id": "2f3f9653",
   "metadata": {},
   "source": [
    "Calculate the product of two numbers, a and b.\n"
   ]
  },
  {
   "cell_type": "code",
   "execution_count": 29,
   "id": "baac0709",
   "metadata": {},
   "outputs": [
    {
     "name": "stdout",
     "output_type": "stream",
     "text": [
      "Product:  600\n"
     ]
    }
   ],
   "source": [
    "a = 20\n",
    "b = 30\n",
    "product = (a*b)\n",
    "print(\"Product: \" , product)"
   ]
  },
  {
   "cell_type": "markdown",
   "id": "263bb83b",
   "metadata": {},
   "source": [
    "Calculate the result of dividing a by b (with proper error handling for division by zero).\n"
   ]
  },
  {
   "cell_type": "code",
   "execution_count": 27,
   "id": "8194519c-875e-4557-9309-34ed3c649111",
   "metadata": {},
   "outputs": [
    {
     "name": "stdout",
     "output_type": "stream",
     "text": [
      "division by zero is not allowed\n"
     ]
    }
   ],
   "source": [
    "a = 65\n",
    "b = 0\n",
    "try:\n",
    "    result = a/b\n",
    "except ZeroDivisionError:\n",
    "    print(\"division by zero is not allowed\")\n",
    "    "
   ]
  },
  {
   "cell_type": "markdown",
   "id": "1160a016",
   "metadata": {},
   "source": [
    "Calculate the square of a number x."
   ]
  },
  {
   "cell_type": "code",
   "execution_count": 61,
   "id": "ba1443de",
   "metadata": {},
   "outputs": [
    {
     "name": "stdout",
     "output_type": "stream",
     "text": [
      "square of x:  49\n"
     ]
    }
   ],
   "source": [
    "x = 7\n",
    "sq = (x**2)\n",
    "print(\"square of x: \" , sq)"
   ]
  },
  {
   "cell_type": "markdown",
   "id": "927cffd3",
   "metadata": {},
   "source": [
    "Calculate the remainder when a is divided by b."
   ]
  },
  {
   "cell_type": "code",
   "execution_count": 1,
   "id": "f95b1e5c",
   "metadata": {},
   "outputs": [
    {
     "name": "stdout",
     "output_type": "stream",
     "text": [
      "ramainder = 2\n"
     ]
    }
   ],
   "source": [
    "a = 97\n",
    "b = 5\n",
    "m = a%b\n",
    "print (\"ramainder =\" , m)"
   ]
  },
  {
   "cell_type": "markdown",
   "id": "fad0381a",
   "metadata": {},
   "source": [
    " Calculate the result of dividing 17 by 3 and print the quotient and remainder."
   ]
  },
  {
   "cell_type": "code",
   "execution_count": 2,
   "id": "6bbe2ffb",
   "metadata": {},
   "outputs": [
    {
     "name": "stdout",
     "output_type": "stream",
     "text": [
      "quotient = 5.666666666666667\n",
      "remainder = 2\n"
     ]
    }
   ],
   "source": [
    "m= 17\n",
    "n = 3\n",
    "s = m/n\n",
    "z = m%n\n",
    "print (\"quotient =\" , s)\n",
    "print (\"remainder =\" , z)"
   ]
  },
  {
   "cell_type": "markdown",
   "id": "0abdb0ba",
   "metadata": {},
   "source": [
    "Calculate the area of a square with a given side length.\n"
   ]
  },
  {
   "cell_type": "code",
   "execution_count": 30,
   "id": "4a0edefb",
   "metadata": {},
   "outputs": [
    {
     "name": "stdout",
     "output_type": "stream",
     "text": [
      "Area of square:  144\n"
     ]
    }
   ],
   "source": [
    "length = 12\n",
    "area = (length*length)\n",
    "print(\"Area of square: \" , area)"
   ]
  },
  {
   "cell_type": "markdown",
   "id": "0c15704a",
   "metadata": {},
   "source": [
    "Calculate the average of five numbers.\n"
   ]
  },
  {
   "cell_type": "code",
   "execution_count": 31,
   "id": "ae66922d",
   "metadata": {},
   "outputs": [
    {
     "name": "stdout",
     "output_type": "stream",
     "text": [
      "Average:  88.4\n"
     ]
    }
   ],
   "source": [
    "n1= 90\n",
    "n2 = 87\n",
    "n3 = 85\n",
    "n4 = 92\n",
    "n5 = 88\n",
    "sum = (n1+n2+n3+n4+n5)\n",
    "avg = (sum/5)\n",
    "print(\"Average: \" , avg)"
   ]
  },
  {
   "cell_type": "markdown",
   "id": "da3cde84",
   "metadata": {},
   "source": [
    "Create a variable with a boolean value and print its opposite value.\n"
   ]
  },
  {
   "cell_type": "code",
   "execution_count": 12,
   "id": "0bb430b5",
   "metadata": {},
   "outputs": [
    {
     "name": "stdout",
     "output_type": "stream",
     "text": [
      "False\n"
     ]
    }
   ],
   "source": [
    "a = \"true\"\n",
    "print (not a)"
   ]
  },
  {
   "cell_type": "markdown",
   "id": "d800b510",
   "metadata": {},
   "source": [
    "Store your birth year in a variable and calculate your age."
   ]
  },
  {
   "cell_type": "code",
   "execution_count": 14,
   "id": "94ac0a22",
   "metadata": {},
   "outputs": [
    {
     "name": "stdout",
     "output_type": "stream",
     "text": [
      "Age = 24\n"
     ]
    }
   ],
   "source": [
    "birth_year = 2000\n",
    "current_year = 2024\n",
    "age = current_year - birth_year \n",
    "print (\"Age =\", age)"
   ]
  },
  {
   "cell_type": "markdown",
   "id": "77f30aa2-3638-4cb9-8999-3e7e1430587c",
   "metadata": {},
   "source": [
    "Create a variable with an integer and convert it to a float."
   ]
  },
  {
   "cell_type": "code",
   "execution_count": 15,
   "id": "c862dfa4",
   "metadata": {},
   "outputs": [
    {
     "name": "stdout",
     "output_type": "stream",
     "text": [
      "20.0\n"
     ]
    }
   ],
   "source": [
    "m = 20\n",
    "s = (float(m))\n",
    "print (s)"
   ]
  },
  {
   "cell_type": "markdown",
   "id": "d6e985ae",
   "metadata": {},
   "source": [
    "Create a variable with a float and convert it to an integer."
   ]
  },
  {
   "cell_type": "code",
   "execution_count": 21,
   "id": "db782f94",
   "metadata": {},
   "outputs": [
    {
     "name": "stdout",
     "output_type": "stream",
     "text": [
      "20\n"
     ]
    },
    {
     "data": {
      "text/plain": [
       "int"
      ]
     },
     "execution_count": 21,
     "metadata": {},
     "output_type": "execute_result"
    }
   ],
   "source": [
    "x = 20.30\n",
    "y = (int(x))\n",
    "print (y)\n",
    "type(y)"
   ]
  },
  {
   "cell_type": "markdown",
   "id": "03fbd24c",
   "metadata": {},
   "source": [
    "Create a variable with a string that represents an integer and convert it to an integer."
   ]
  },
  {
   "cell_type": "code",
   "execution_count": 19,
   "id": "15e98a9c",
   "metadata": {},
   "outputs": [
    {
     "name": "stdout",
     "output_type": "stream",
     "text": [
      "2024\n"
     ]
    },
    {
     "data": {
      "text/plain": [
       "int"
      ]
     },
     "execution_count": 19,
     "metadata": {},
     "output_type": "execute_result"
    }
   ],
   "source": [
    "s = \"2024\"\n",
    "m = (int(s))\n",
    "print (m)\n",
    "type(m)"
   ]
  },
  {
   "cell_type": "markdown",
   "id": "7b82ee26",
   "metadata": {},
   "source": [
    "Create a variable with a string that represents a float and convert it to a float.\n"
   ]
  },
  {
   "cell_type": "code",
   "execution_count": 26,
   "id": "31b96ee5",
   "metadata": {},
   "outputs": [
    {
     "name": "stdout",
     "output_type": "stream",
     "text": [
      "2024.99\n"
     ]
    }
   ],
   "source": [
    "f = \"2024.99\"\n",
    "g = (float(f))\n",
    "print (g)"
   ]
  },
  {
   "cell_type": "markdown",
   "id": "55b70302",
   "metadata": {},
   "source": [
    "Create a variable with a number and convert it to a string."
   ]
  },
  {
   "cell_type": "code",
   "execution_count": 29,
   "id": "191ca6c0",
   "metadata": {},
   "outputs": [
    {
     "name": "stdout",
     "output_type": "stream",
     "text": [
      "199730\n"
     ]
    },
    {
     "data": {
      "text/plain": [
       "str"
      ]
     },
     "execution_count": 29,
     "metadata": {},
     "output_type": "execute_result"
    }
   ],
   "source": [
    "p = 199730\n",
    "q = (str(p))\n",
    "print (q)\n",
    "type(q)"
   ]
  },
  {
   "cell_type": "markdown",
   "id": "12030234",
   "metadata": {},
   "source": [
    "Calculate the absolute value of a number.\n",
    "\n"
   ]
  },
  {
   "cell_type": "code",
   "execution_count": 31,
   "id": "e6e2dbb2",
   "metadata": {},
   "outputs": [
    {
     "name": "stdout",
     "output_type": "stream",
     "text": [
      "absolute value=  27\n",
      "absolute value=  19\n"
     ]
    }
   ],
   "source": [
    "m = 27\n",
    "s = (abs(m))\n",
    "print (\"absolute value= \" , s)\n",
    "x = -19\n",
    "y = (abs(x))\n",
    "print (\"absolute value= \" , y)"
   ]
  },
  {
   "cell_type": "markdown",
   "id": "0bcb4315",
   "metadata": {},
   "source": [
    "Calculate the square root of a number.\n"
   ]
  },
  {
   "cell_type": "code",
   "execution_count": 32,
   "id": "1ffc86be",
   "metadata": {
    "scrolled": true
   },
   "outputs": [
    {
     "name": "stdout",
     "output_type": "stream",
     "text": [
      "square root=  576\n"
     ]
    }
   ],
   "source": [
    "r = 24\n",
    "u = r**2\n",
    "print (\"square root= \" , u)"
   ]
  },
  {
   "cell_type": "markdown",
   "id": "3b8743eb",
   "metadata": {},
   "source": [
    "Calculate the value of a raised to the power of b.\n"
   ]
  },
  {
   "cell_type": "code",
   "execution_count": 40,
   "id": "d278563f",
   "metadata": {},
   "outputs": [
    {
     "name": "stdout",
     "output_type": "stream",
     "text": [
      "160000\n"
     ]
    }
   ],
   "source": [
    "a = 20\n",
    "b = 4\n",
    "m = a**b\n",
    "print (m)"
   ]
  },
  {
   "cell_type": "markdown",
   "id": "d06e7a77",
   "metadata": {},
   "source": [
    "Round a float to the nearest integer."
   ]
  },
  {
   "cell_type": "code",
   "execution_count": 43,
   "id": "2f5873c3",
   "metadata": {},
   "outputs": [
    {
     "name": "stdout",
     "output_type": "stream",
     "text": [
      "2090\n"
     ]
    }
   ],
   "source": [
    "m = 2089.9\n",
    "s = (round(m))\n",
    "print (s)"
   ]
  },
  {
   "cell_type": "markdown",
   "id": "34f33237",
   "metadata": {},
   "source": [
    "Combine multiple conditions using logical operators and print the result."
   ]
  },
  {
   "cell_type": "code",
   "execution_count": 48,
   "id": "687d14b0",
   "metadata": {},
   "outputs": [
    {
     "name": "stdout",
     "output_type": "stream",
     "text": [
      "Or=   True\n",
      "And=  True\n",
      "Not=  True\n"
     ]
    }
   ],
   "source": [
    "x = 5\n",
    "y = 15\n",
    "z = 30\n",
    "op_or = (x>y) or (y<z)\n",
    "op_and = (y>x) and (x<z)\n",
    "op_not = not (z<x)\n",
    "print (\"Or=  \" , op_or)\n",
    "print (\"And= \" , op_and)\n",
    "print(\"Not= \" , op_not)"
   ]
  },
  {
   "cell_type": "markdown",
   "id": "ab20128b",
   "metadata": {},
   "source": [
    "Generate a random number between 1 and 100.**(challenging)**\n"
   ]
  },
  {
   "cell_type": "code",
   "execution_count": 59,
   "id": "43ac553b",
   "metadata": {},
   "outputs": [
    {
     "name": "stdout",
     "output_type": "stream",
     "text": [
      "Random number=  60\n"
     ]
    }
   ],
   "source": [
    "r1 = 0\n",
    "r2 = 250\n",
    "random_num = random.randint(r1,r2)\n",
    "print (\"Random number= \" , random_num)"
   ]
  },
  {
   "cell_type": "code",
   "execution_count": null,
   "id": "08b1a18f",
   "metadata": {},
   "outputs": [],
   "source": []
  },
  {
   "cell_type": "code",
   "execution_count": null,
   "id": "614ec84c",
   "metadata": {},
   "outputs": [],
   "source": []
  }
 ],
 "metadata": {
  "kernelspec": {
   "display_name": "Python 3 (ipykernel)",
   "language": "python",
   "name": "python3"
  },
  "language_info": {
   "codemirror_mode": {
    "name": "ipython",
    "version": 3
   },
   "file_extension": ".py",
   "mimetype": "text/x-python",
   "name": "python",
   "nbconvert_exporter": "python",
   "pygments_lexer": "ipython3",
   "version": "3.13.0"
  }
 },
 "nbformat": 4,
 "nbformat_minor": 5
}
