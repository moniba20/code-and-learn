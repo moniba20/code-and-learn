{
 "cells": [
  {
   "cell_type": "markdown",
   "id": "3ceafde2-eceb-48c2-ae07-372ebd6d8cfe",
   "metadata": {},
   "source": [
    "### Assignment if...elif...else"
   ]
  },
  {
   "cell_type": "markdown",
   "id": "6a4df9ff-2b7f-432d-a3b7-709bba2f6537",
   "metadata": {},
   "source": [
    "1. Write a Python program that takes an integer input and checks whether the number is even or odd."
   ]
  },
  {
   "cell_type": "code",
   "execution_count": 38,
   "id": "e09456fb-af70-4b5d-b95f-25860675adc2",
   "metadata": {},
   "outputs": [
    {
     "name": "stdin",
     "output_type": "stream",
     "text": [
      "Enter the integer:  35\n"
     ]
    },
    {
     "name": "stdout",
     "output_type": "stream",
     "text": [
      "The number  35 is odd\n"
     ]
    }
   ],
   "source": [
    "number = int(input(\"Enter the integer: \"))\n",
    "if(number%2==0):\n",
    "    print(\"The number \" , number , \" is even\")\n",
    "else:\n",
    "    print(\"The number \" , number , \"is odd\")"
   ]
  },
  {
   "cell_type": "markdown",
   "id": "3599d600-59ab-4d63-a21d-9fe6e5a0f1ee",
   "metadata": {},
   "source": [
    "2. Write a Python program to input a student's marks and print \"Pass\" if the marks are 40 or above; otherwise,\n",
    "print \"Fail.\""
   ]
  },
  {
   "cell_type": "code",
   "execution_count": 39,
   "id": "cb0ec2fc-70d5-41a5-8d40-01f057e62749",
   "metadata": {},
   "outputs": [
    {
     "name": "stdin",
     "output_type": "stream",
     "text": [
      "Student's marks:  89\n"
     ]
    },
    {
     "name": "stdout",
     "output_type": "stream",
     "text": [
      "Status: Pass \n"
     ]
    }
   ],
   "source": [
    "marks = int(input(\"Student's marks: \"))\n",
    "if (marks>= 40):\n",
    "    print(\"Status: Pass \")\n",
    "else:\n",
    "    print(\"Status: Fail\")"
   ]
  },
  {
   "cell_type": "markdown",
   "id": "243c541d-47c1-423e-be5b-4821e763f5dc",
   "metadata": {},
   "source": [
    "3.Write a program that takes an integer as input and determines if it is positive, negative, or zero."
   ]
  },
  {
   "cell_type": "code",
   "execution_count": 40,
   "id": "6fa5d43a-9bf7-48f7-a29c-e2f615e53a73",
   "metadata": {},
   "outputs": [
    {
     "name": "stdin",
     "output_type": "stream",
     "text": [
      "Enter the integer:  76\n"
     ]
    },
    {
     "name": "stdout",
     "output_type": "stream",
     "text": [
      "The number is positive\n"
     ]
    }
   ],
   "source": [
    "number = int(input(\"Enter the integer: \"))\n",
    "if (number>0):\n",
    "    print(\"The number is positive\")\n",
    "elif(number==0):\n",
    "    print(\"The number is 0\")\n",
    "else:\n",
    "    print(\"The number is negative\")"
   ]
  },
  {
   "cell_type": "markdown",
   "id": "a6e41c9b-78a8-486c-bf10-ed7657daa844",
   "metadata": {},
   "source": [
    "4. Write a Python program that inputs two numbers and prints which one is greater. If they are equal, print \"Both are equal.\""
   ]
  },
  {
   "cell_type": "code",
   "execution_count": 41,
   "id": "ed8d2b01-db23-481d-8dcb-58c3006941de",
   "metadata": {},
   "outputs": [
    {
     "name": "stdin",
     "output_type": "stream",
     "text": [
      "Enter number 1:  65\n",
      "Enter number 2:  34\n"
     ]
    },
    {
     "name": "stdout",
     "output_type": "stream",
     "text": [
      "m is greater than s\n"
     ]
    }
   ],
   "source": [
    "m = int(input(\"Enter number 1: \"))\n",
    "s = int(input(\"Enter number 2: \"))\n",
    "if(m>s):\n",
    "    print(\"m is greater than s\")\n",
    "elif(m<s):\n",
    "    print(\"s is greater than m\")\n",
    "else:\n",
    "    print(\"Both numbers are equal\")"
   ]
  },
  {
   "cell_type": "markdown",
   "id": "5d6a274d-5a34-4613-80f9-3ad23a60e0af",
   "metadata": {},
   "source": [
    "5. Write a program that takes a year as input and determines if it is a leap year. A year is a leap year if it is divisible by 4 but not divisible by 100, except if it is also divisible by 400."
   ]
  },
  {
   "cell_type": "code",
   "execution_count": 42,
   "id": "67bb01dc-d7e6-41d6-87a9-95e519118528",
   "metadata": {},
   "outputs": [
    {
     "name": "stdin",
     "output_type": "stream",
     "text": [
      "Enter the year:  2000\n"
     ]
    },
    {
     "name": "stdout",
     "output_type": "stream",
     "text": [
      "The year  2000  is leap year\n"
     ]
    }
   ],
   "source": [
    "year = int(input(\"Enter the year: \"))\n",
    "if (year%4==0 and year%100 !=0)or (year%400==0):\n",
    "    print(\"The year \", year, \" is leap year\" )\n",
    "else:\n",
    "    print(\"The year \", \" is not a leap year\")"
   ]
  },
  {
   "cell_type": "markdown",
   "id": "b33f3eca-11cc-4259-8496-f6d07bae04c4",
   "metadata": {},
   "source": [
    "6. Write a Python program that takes marks as input and prints the grade using the following conditions:\n",
    "- 90 and above: \"A\"\n",
    "- 80 to 89: \"B\"\n",
    "- 70 to 79: \"C\"\n",
    "- 60 to 69: \"D\"\n",
    "- Below 60: \"F\""
   ]
  },
  {
   "cell_type": "code",
   "execution_count": 43,
   "id": "2fcd2da7-89f5-43bf-94cd-c26d95562f93",
   "metadata": {},
   "outputs": [
    {
     "name": "stdin",
     "output_type": "stream",
     "text": [
      "Enter the marks here:  91\n"
     ]
    },
    {
     "name": "stdout",
     "output_type": "stream",
     "text": [
      "Grade: A\n"
     ]
    }
   ],
   "source": [
    "marks = int(input(\"Enter the marks here: \"))\n",
    "if(marks>=90):\n",
    "    print(\"Grade: A\")\n",
    "elif(marks>=80 and marks<=89):\n",
    "    print(\"Grade: B\")\n",
    "elif(marks>=70 and marks<=79):\n",
    "    print(\"Grade: C\")\n",
    "elif(marks>=60 and marks<=69):\n",
    "    print(\"Grade: D\")\n",
    "else:\n",
    "    print(\"Grade: F\")"
   ]
  },
  {
   "cell_type": "markdown",
   "id": "83c6a588-e49f-45f8-8e5a-c76dcd27bc40",
   "metadata": {},
   "source": [
    "7. Write a program that takes three side lengths of a triangle as input and checks if they form a valid triangle. A triangle is valid if the sum of any two sides is greater than the third side."
   ]
  },
  {
   "cell_type": "code",
   "execution_count": 44,
   "id": "484ef452-2496-460f-ad70-ac7c6c03115a",
   "metadata": {},
   "outputs": [
    {
     "name": "stdin",
     "output_type": "stream",
     "text": [
      "Enter the length of side 1:  7\n",
      "Enter the length of side 2:  4\n",
      "Enter the length of side 3:  8\n"
     ]
    },
    {
     "name": "stdout",
     "output_type": "stream",
     "text": [
      "The triangle is valid\n"
     ]
    }
   ],
   "source": [
    "side1 = int(input(\"Enter the length of side 1: \"))\n",
    "side2 = int(input(\"Enter the length of side 2: \"))\n",
    "side3 = int(input(\"Enter the length of side 3: \"))\n",
    "if((side1+side2>side3)and (side2+side3>side1)and (side1+side3>side2)):\n",
    "    print(\"The triangle is valid\")\n",
    "else:\n",
    "    print(\"The triangle is not valid\")"
   ]
  },
  {
   "cell_type": "markdown",
   "id": "f66946e0-d58c-4707-83f6-113bd78f0359",
   "metadata": {},
   "source": [
    "8. Write a Python program that asks the user for their age and nationality. Print \"Eligible to Vote\" if the age is 18 or above and nationality is \"Indian.\" Otherwise, print \"Not Eligible to Vote.\""
   ]
  },
  {
   "cell_type": "code",
   "execution_count": 45,
   "id": "70ccab84-2716-4ab0-9d30-c6d48316b627",
   "metadata": {},
   "outputs": [
    {
     "name": "stdin",
     "output_type": "stream",
     "text": [
      "Enter your age:  24\n",
      "Enter your nationality:  Pakistani\n"
     ]
    },
    {
     "name": "stdout",
     "output_type": "stream",
     "text": [
      "Remarks: Eligible to vote\n"
     ]
    }
   ],
   "source": [
    "age = int(input(\"Enter your age: \"))\n",
    "nationality = str(input(\"Enter your nationality: \"))\n",
    "if ((age >=18) and (nationality == \"Pakistani\")):\n",
    "    print(\"Remarks: Eligible to vote\")\n",
    "else:\n",
    "    print(\"Remarks: Not eligible to vote\")\n",
    "    "
   ]
  },
  {
   "cell_type": "markdown",
   "id": "0a946fe8-28e2-4197-94b0-aaffb3888671",
   "metadata": {},
   "source": [
    "9. Write a Python program that takes an integer as input and classifies it:\n",
    "- If divisible by 2 and 3, print \"Divisible by both 2 and 3.\"\n",
    "- If divisible by only 2, print \"Divisible by 2.\"\n",
    "- If divisible by only 3, print \"Divisible by 3.\"\n",
    "- Otherwise, print \"Not divisible by 2 or 3.\""
   ]
  },
  {
   "cell_type": "code",
   "execution_count": 48,
   "id": "9cc37199-8fbb-4257-95c3-e17d6a7cbb3e",
   "metadata": {},
   "outputs": [
    {
     "name": "stdin",
     "output_type": "stream",
     "text": [
      "Enter the integer:  54\n"
     ]
    },
    {
     "name": "stdout",
     "output_type": "stream",
     "text": [
      "54  is divisible by both 2 and 3\n"
     ]
    }
   ],
   "source": [
    "number = int(input(\"Enter the integer: \"))\n",
    "if(number%2==0 and number%3==0):\n",
    "    print(number ,\" is divisible by both 2 and 3\")\n",
    "elif(number%2==0):\n",
    "    print(number, \" is divisible by 2\")\n",
    "elif(number%3==0):\n",
    "    print(number, \" is divisible by 3\")\n",
    "else:\n",
    "    print(\"Not divisible by 2 or 3\")"
   ]
  },
  {
   "cell_type": "markdown",
   "id": "26a83b35-9cd4-46b9-8457-4811427e2061",
   "metadata": {},
   "source": [
    "10. Write a Python program that takes three numbers as input and prints the largest number using nested if-else\n",
    "statements."
   ]
  },
  {
   "cell_type": "code",
   "execution_count": 51,
   "id": "98b0b5d3-e692-4ac7-bd94-b57f7fc29091",
   "metadata": {},
   "outputs": [
    {
     "name": "stdin",
     "output_type": "stream",
     "text": [
      "Enter number 1:  34\n",
      "Enter number 2:  54\n",
      "Enter number 3:  45\n"
     ]
    },
    {
     "name": "stdout",
     "output_type": "stream",
     "text": [
      "The largest number is:  54\n"
     ]
    }
   ],
   "source": [
    "num1 = int(input(\"Enter number 1: \"))\n",
    "num2 = int(input(\"Enter number 2: \"))\n",
    "num3 = int(input(\"Enter number 3: \"))\n",
    "if(num1>num2):\n",
    "    if(num1>num3):\n",
    "        print(\"The largest number is: \", num1)\n",
    "    else:\n",
    "        print(\"The largest number is: \", num3)\n",
    "else:\n",
    "    if(num2>num1):\n",
    "        print(\"The largest number is: \", num2)\n",
    "    else:\n",
    "        print(\"The largest number is: \", num1)"
   ]
  }
 ],
 "metadata": {
  "kernelspec": {
   "display_name": "Python 3 (ipykernel)",
   "language": "python",
   "name": "python3"
  },
  "language_info": {
   "codemirror_mode": {
    "name": "ipython",
    "version": 3
   },
   "file_extension": ".py",
   "mimetype": "text/x-python",
   "name": "python",
   "nbconvert_exporter": "python",
   "pygments_lexer": "ipython3",
   "version": "3.13.0"
  }
 },
 "nbformat": 4,
 "nbformat_minor": 5
}
